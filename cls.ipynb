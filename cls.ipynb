{
 "cells": [
  {
   "cell_type": "code",
   "execution_count": 1,
   "metadata": {},
   "outputs": [],
   "source": [
    "import json\n",
    "import numpy as np"
   ]
  },
  {
   "cell_type": "code",
   "execution_count": 17,
   "metadata": {},
   "outputs": [],
   "source": [
    "with open('./data/agument.json','r') as f:\n",
    "    env = json.load(f)"
   ]
  },
  {
   "cell_type": "code",
   "execution_count": 43,
   "metadata": {},
   "outputs": [],
   "source": [
    "with open('./res/chat_2_inter.json','r') as f:\n",
    "    data = json.load(f)"
   ]
  },
  {
   "cell_type": "code",
   "execution_count": 44,
   "metadata": {},
   "outputs": [],
   "source": [
    "total = [0]*3 \n",
    "corr = [0]*3\n",
    "for i, val in data.items():\n",
    "    label = env[i]['label']\n",
    "    if val['cap'] == None:\n",
    "        pred = 0\n",
    "    elif val['reason'] == None:\n",
    "        pred = 2\n",
    "    else:\n",
    "        pred = 1\n",
    "    if label == 3:\n",
    "        continue\n",
    "    if pred == label:\n",
    "        corr[label] += 1\n",
    "    total[label] += 1  "
   ]
  },
  {
   "cell_type": "code",
   "execution_count": 46,
   "metadata": {},
   "outputs": [
    {
     "name": "stdout",
     "output_type": "stream",
     "text": [
      "0.41935483870967744\n"
     ]
    }
   ],
   "source": [
    "# for i in range(3):\n",
    "#     print(corr[i]/total[i])\n",
    "print(np.sum(corr)/np.sum(total))"
   ]
  },
  {
   "cell_type": "code",
   "execution_count": 47,
   "metadata": {},
   "outputs": [
    {
     "name": "stdout",
     "output_type": "stream",
     "text": [
      "0.5552504676393566\n"
     ]
    }
   ],
   "source": [
    "OLD_ACC = 0.561\n",
    "NEW_ACC = (OLD_ACC*5129 + np.sum(corr))/(5129+np.sum(total))\n",
    "print(NEW_ACC)"
   ]
  },
  {
   "cell_type": "markdown",
   "metadata": {},
   "source": [
    "### Prompting"
   ]
  },
  {
   "cell_type": "code",
   "execution_count": 53,
   "metadata": {},
   "outputs": [],
   "source": [
    "with open('./res/chat_7_new.json','r') as f:\n",
    "    data = json.load(f)"
   ]
  },
  {
   "cell_type": "code",
   "execution_count": 54,
   "metadata": {},
   "outputs": [
    {
     "name": "stdout",
     "output_type": "stream",
     "text": [
      "0.37590961317502875\n"
     ]
    }
   ],
   "source": [
    "total = [0]*3 \n",
    "corr = [0]*3\n",
    "for i, val in data.items():\n",
    "    label = env[i]['label']\n",
    "    try: a = (val['unct'][0])\n",
    "    except: total[label] += 1; continue\n",
    "    if len(val['unct']) == 0:\n",
    "        if label == 2:\n",
    "            corr[label] += 1\n",
    "        total[label] += 1\n",
    "        continue\n",
    "    unct = val['unct'][0]\n",
    "    \n",
    "    if label == 3:\n",
    "        continue\n",
    "    if unct['ood'] == 1 and label == 2:\n",
    "        corr[label] += 1\n",
    "    elif unct['amb'] == 1 and label == 1:\n",
    "        corr[label] += 1\n",
    "    if unct['total'] == 0 and label == 0:\n",
    "        corr[label] += 1\n",
    "    total[label] += 1  \n",
    "# print(total)\n",
    "# print(corr[2]/total[2])\n",
    "print(np.sum(corr)/np.sum(total))"
   ]
  },
  {
   "cell_type": "code",
   "execution_count": 55,
   "metadata": {},
   "outputs": [
    {
     "name": "stdout",
     "output_type": "stream",
     "text": [
      "0.38933310791227904\n"
     ]
    }
   ],
   "source": [
    "OLD_ACC = 0.403\n",
    "NEW_ACC = (OLD_ACC*5129 + np.sum(corr))/(5129+np.sum(total))\n",
    "print(NEW_ACC)"
   ]
  },
  {
   "cell_type": "markdown",
   "metadata": {},
   "source": [
    "### Fewshot"
   ]
  },
  {
   "cell_type": "code",
   "execution_count": 40,
   "metadata": {},
   "outputs": [],
   "source": [
    "with open('./res/llama_6_new.json','r') as f:\n",
    "    data = json.load(f)"
   ]
  },
  {
   "cell_type": "code",
   "execution_count": 41,
   "metadata": {},
   "outputs": [
    {
     "name": "stdout",
     "output_type": "stream",
     "text": [
      "0.16279069767441862\n"
     ]
    }
   ],
   "source": [
    "total = [0]*3 \n",
    "corr = [0]*3\n",
    "for i, val in data.items():\n",
    "    if int(i) < 5129: continue\n",
    "    texts = val['text']\n",
    "    label = env[i]['label']\n",
    "    if label == 3:\n",
    "        continue\n",
    "    pred = 0\n",
    "    if len(texts) == 0:\n",
    "        pred = 3\n",
    "    for l in texts:\n",
    "        if 'robot thought' in l:\n",
    "            if 'can not' in l.lower() or 'cannot' in l.lower() or 'not a task' in l.lower() or \"unable\" in l.lower():\n",
    "                # print('yes')\n",
    "                pred = 3\n",
    "                break\n",
    "            else:\n",
    "                pred = 2\n",
    "                break\n",
    "\n",
    "    if pred == label:\n",
    "        corr[label] += 1\n",
    "    total[label] += 1  \n",
    "print(np.sum(corr)/np.sum(total))"
   ]
  },
  {
   "cell_type": "code",
   "execution_count": 42,
   "metadata": {},
   "outputs": [
    {
     "name": "stdout",
     "output_type": "stream",
     "text": [
      "0.3682772621809745\n"
     ]
    }
   ],
   "source": [
    "OLD_ACC = 0.370\n",
    "NEW_ACC = (OLD_ACC*5129 + np.sum(corr))/(5129+np.sum(total))\n",
    "print(NEW_ACC)"
   ]
  },
  {
   "cell_type": "code",
   "execution_count": null,
   "metadata": {},
   "outputs": [],
   "source": []
  }
 ],
 "metadata": {
  "kernelspec": {
   "display_name": "Python 3.8.10 64-bit",
   "language": "python",
   "name": "python3"
  },
  "language_info": {
   "codemirror_mode": {
    "name": "ipython",
    "version": 3
   },
   "file_extension": ".py",
   "mimetype": "text/x-python",
   "name": "python",
   "nbconvert_exporter": "python",
   "pygments_lexer": "ipython3",
   "version": "3.10.12"
  },
  "orig_nbformat": 4,
  "vscode": {
   "interpreter": {
    "hash": "767d51c1340bd893661ea55ea3124f6de3c7a262a8b4abca0554b478b1e2ff90"
   }
  }
 },
 "nbformat": 4,
 "nbformat_minor": 2
}
