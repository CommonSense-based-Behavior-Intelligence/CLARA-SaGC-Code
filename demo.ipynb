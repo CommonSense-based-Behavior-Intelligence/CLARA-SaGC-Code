{
 "cells": [
  {
   "cell_type": "code",
   "execution_count": 3,
   "metadata": {},
   "outputs": [],
   "source": [
    "from llm.lnct_score import lm_planner_unct\n",
    "from set_key import set_openai_api_key_from_txt"
   ]
  },
  {
   "cell_type": "code",
   "execution_count": 4,
   "metadata": {},
   "outputs": [
    {
     "name": "stdout",
     "output_type": "stream",
     "text": [
      "OpenAI API Key Ready from [./key/key.txt].\n"
     ]
    }
   ],
   "source": [
    "set_openai_api_key_from_txt('./key/key.txt')"
   ]
  },
  {
   "cell_type": "code",
   "execution_count": 5,
   "metadata": {},
   "outputs": [],
   "source": [
    "cook_planner = lm_planner_unct(type=2, task = 'cook')\n",
    "clean_planner = lm_planner_unct(type=2, task = 'clean')\n",
    "massage_planner = lm_planner_unct(type=2, task = 'mas')"
   ]
  },
  {
   "cell_type": "code",
   "execution_count": 6,
   "metadata": {},
   "outputs": [],
   "source": [
    "cook_planner.set_goal(\"The person looks tired\")\n",
    "cook_planner.objects = ['bread', 'pan', 'table', 'water', 'coffee', 'coffeemachine', 'bacon']\n",
    "cook_planner.set_prompt()"
   ]
  },
  {
   "cell_type": "code",
   "execution_count": 7,
   "metadata": {},
   "outputs": [],
   "source": [
    "massage_planner.set_goal(\"The person looks tired\")\n",
    "massage_planner.objects = ['bread', 'pan', 'table', 'water', 'coffee', 'coffeemachine', 'bacon']\n",
    "massage_planner.set_prompt()"
   ]
  },
  {
   "cell_type": "code",
   "execution_count": 8,
   "metadata": {},
   "outputs": [
    {
     "name": "stdout",
     "output_type": "stream",
     "text": [
      "[]\n",
      "\n",
      "Robot Action: robot.go_to(person\n",
      "person go_to\n"
     ]
    }
   ],
   "source": [
    "massage_planner.plan_with_unct()"
   ]
  },
  {
   "cell_type": "code",
   "execution_count": null,
   "metadata": {},
   "outputs": [],
   "source": [
    "massage_planner.question_generation()"
   ]
  },
  {
   "cell_type": "code",
   "execution_count": null,
   "metadata": {},
   "outputs": [],
   "source": [
    "clean_planner.set_goal(\"The person looks tired\")\n",
    "clean_planner.floor_plan = ['kitchen', 'living room', 'bedroom', 'bathroom']\n",
    "clean_planner.objects = ['bread', 'pan', 'table', 'water', 'coffee', 'coffeemachine', 'bacon']\n",
    "clean_planner.set_prompt()"
   ]
  },
  {
   "cell_type": "code",
   "execution_count": null,
   "metadata": {},
   "outputs": [],
   "source": [
    "clean_planner.plan_with_unct()"
   ]
  },
  {
   "cell_type": "code",
   "execution_count": null,
   "metadata": {},
   "outputs": [],
   "source": [
    "clean_planner.append(None, None, \"robot action: robot.makeCoffee(coffeemachine)\")"
   ]
  },
  {
   "cell_type": "code",
   "execution_count": null,
   "metadata": {},
   "outputs": [],
   "source": [
    "clean_planner.question_generation()"
   ]
  },
  {
   "cell_type": "code",
   "execution_count": null,
   "metadata": {},
   "outputs": [],
   "source": []
  },
  {
   "cell_type": "code",
   "execution_count": null,
   "metadata": {},
   "outputs": [],
   "source": []
  },
  {
   "cell_type": "code",
   "execution_count": null,
   "metadata": {},
   "outputs": [],
   "source": []
  }
 ],
 "metadata": {
  "kernelspec": {
   "display_name": "Python 3.8.10 64-bit",
   "language": "python",
   "name": "python3"
  },
  "language_info": {
   "codemirror_mode": {
    "name": "ipython",
    "version": 3
   },
   "file_extension": ".py",
   "mimetype": "text/x-python",
   "name": "python",
   "nbconvert_exporter": "python",
   "pygments_lexer": "ipython3",
   "version": "3.10.12"
  },
  "orig_nbformat": 4,
  "vscode": {
   "interpreter": {
    "hash": "e7370f93d1d0cde622a1f8e1c04877d8463912d04d973331ad4851f04de6915a"
   }
  }
 },
 "nbformat": 4,
 "nbformat_minor": 2
}
